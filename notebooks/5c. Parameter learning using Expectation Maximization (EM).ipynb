{
 "cells": [
  {
   "cell_type": "markdown",
   "metadata": {},
   "source": [
    "# 5c. Parameter learning using Expectation Maximization (EM)\n",
    "This notebook shows how parameter estimation is implemented in Thomas."
   ]
  },
  {
   "cell_type": "code",
   "execution_count": 1,
   "metadata": {},
   "outputs": [
    {
     "name": "stdout",
     "output_type": "stream",
     "text": [
      "The autoreload extension is already loaded. To reload it, use:\n",
      "  %reload_ext autoreload\n",
      "\n",
      "available imports:\n",
      "  import os\n",
      "  import logging\n",
      "  import pandas as pd\n",
      "  import numpy as np\n",
      "\n",
      "connect to this kernel with:\n",
      "  jupyter console --existing 3998c6e9-9735-4ecf-92c4-60dda6be3e51\n",
      "\n",
      "Logging to: \"/Users/melle/software-development/thomas-master/logs/5c. Parameter learning using Expectation Maximization (EM).log\"\n",
      "Current date/time: 27-06-2020, 15:11\n",
      "Current working directory: \"/Users/melle/software-development/thomas-master/notebooks\"\n"
     ]
    }
   ],
   "source": [
    "%run '_preamble.ipynb'"
   ]
  },
  {
   "cell_type": "code",
   "execution_count": 2,
   "metadata": {},
   "outputs": [],
   "source": [
    "import functools\n",
    "\n",
    "from thomas.core import examples\n",
    "from thomas.core import factor\n",
    "from thomas.core import BayesianNetwork, Factor, CPT, JPT\n",
    "from thomas.core.bayesian_network import DiscreteNetworkNode\n",
    "from thomas.jupyter import BayesianNetworkWidget\n",
    "\n",
    "from IPython.display import display, HTML"
   ]
  },
  {
   "cell_type": "markdown",
   "metadata": {},
   "source": [
    "## Initialization"
   ]
  },
  {
   "cell_type": "markdown",
   "metadata": {},
   "source": [
    "### Load the BN"
   ]
  },
  {
   "cell_type": "code",
   "execution_count": 3,
   "metadata": {},
   "outputs": [
    {
     "data": {
      "text/plain": [
       "[P(A)\n",
       " A \n",
       " a1    0.2\n",
       " a2    0.8\n",
       " dtype: float64,\n",
       " P(B|A)\n",
       " A   B \n",
       " a1  b1    0.75\n",
       "     b2    0.25\n",
       " a2  b1    0.10\n",
       "     b2    0.90\n",
       " dtype: float64,\n",
       " P(C|A)\n",
       " A   C \n",
       " a1  c1    0.50\n",
       "     c2    0.50\n",
       " a2  c1    0.25\n",
       "     c2    0.75\n",
       " dtype: float64,\n",
       " P(D|B)\n",
       " B   D \n",
       " b1  d1    0.2\n",
       "     d2    0.8\n",
       " b2  d1    0.7\n",
       "     d2    0.3\n",
       " dtype: float64]"
      ]
     },
     "execution_count": 3,
     "metadata": {},
     "output_type": "execute_result"
    }
   ],
   "source": [
    "bn = examples.get_example17_3_network()\n",
    "\n",
    "[n.cpt for n in bn.nodes.values()]"
   ]
  },
  {
   "cell_type": "code",
   "execution_count": 4,
   "metadata": {},
   "outputs": [
    {
     "data": {
      "application/vnd.jupyter.widget-view+json": {
       "model_id": "10ef0ff7705b4f45a5499ca393e94ed0",
       "version_major": 2,
       "version_minor": 0
      },
      "text/plain": [
       "BayesianNetworkWidget(marginals_and_evidence={'marginals': {'A': {'a1': 0.2, 'a2': 0.8}, 'B': {'b1': 0.2299999…"
      ]
     },
     "metadata": {},
     "output_type": "display_data"
    }
   ],
   "source": [
    "widget = BayesianNetworkWidget(bn)\n",
    "widget"
   ]
  },
  {
   "cell_type": "markdown",
   "metadata": {},
   "source": [
    "### Load the data"
   ]
  },
  {
   "cell_type": "code",
   "execution_count": 5,
   "metadata": {},
   "outputs": [
    {
     "name": "stdout",
     "output_type": "stream",
     "text": [
      "df.shape: 5 rows x 4 cols\n",
      "This dataset has 8 NAs\n"
     ]
    },
    {
     "data": {
      "text/html": [
       "<div>\n",
       "<style scoped>\n",
       "    .dataframe tbody tr th:only-of-type {\n",
       "        vertical-align: middle;\n",
       "    }\n",
       "\n",
       "    .dataframe tbody tr th {\n",
       "        vertical-align: top;\n",
       "    }\n",
       "\n",
       "    .dataframe thead th {\n",
       "        text-align: right;\n",
       "    }\n",
       "</style>\n",
       "<table border=\"1\" class=\"dataframe\">\n",
       "  <thead>\n",
       "    <tr style=\"text-align: right;\">\n",
       "      <th></th>\n",
       "      <th>A</th>\n",
       "      <th>B</th>\n",
       "      <th>C</th>\n",
       "      <th>D</th>\n",
       "    </tr>\n",
       "    <tr>\n",
       "      <th>Case</th>\n",
       "      <th></th>\n",
       "      <th></th>\n",
       "      <th></th>\n",
       "      <th></th>\n",
       "    </tr>\n",
       "  </thead>\n",
       "  <tbody>\n",
       "    <tr>\n",
       "      <th>d1</th>\n",
       "      <td>NaN</td>\n",
       "      <td>b1</td>\n",
       "      <td>c2</td>\n",
       "      <td>NaN</td>\n",
       "    </tr>\n",
       "    <tr>\n",
       "      <th>d2</th>\n",
       "      <td>NaN</td>\n",
       "      <td>b1</td>\n",
       "      <td>NaN</td>\n",
       "      <td>d2</td>\n",
       "    </tr>\n",
       "    <tr>\n",
       "      <th>d3</th>\n",
       "      <td>NaN</td>\n",
       "      <td>b2</td>\n",
       "      <td>c1</td>\n",
       "      <td>d1</td>\n",
       "    </tr>\n",
       "    <tr>\n",
       "      <th>d4</th>\n",
       "      <td>NaN</td>\n",
       "      <td>b2</td>\n",
       "      <td>c1</td>\n",
       "      <td>d1</td>\n",
       "    </tr>\n",
       "    <tr>\n",
       "      <th>d5</th>\n",
       "      <td>NaN</td>\n",
       "      <td>b1</td>\n",
       "      <td>NaN</td>\n",
       "      <td>d2</td>\n",
       "    </tr>\n",
       "  </tbody>\n",
       "</table>\n",
       "</div>"
      ],
      "text/plain": [
       "       A   B    C    D\n",
       "Case                  \n",
       "d1   NaN  b1   c2  NaN\n",
       "d2   NaN  b1  NaN   d2\n",
       "d3   NaN  b2   c1   d1\n",
       "d4   NaN  b2   c1   d1\n",
       "d5   NaN  b1  NaN   d2"
      ]
     },
     "execution_count": 5,
     "metadata": {},
     "output_type": "execute_result"
    }
   ],
   "source": [
    "filename = thomas.core.get_pkg_filename('dataset_17_3.csv')\n",
    "df = pd.read_csv(filename, sep=';').set_index('Case')\n",
    "\n",
    "print(f'df.shape: {df.shape[0]} rows x {df.shape[1]} cols')\n",
    "print(f'This dataset has {df.isna().sum().sum()} NAs')\n",
    "\n",
    "df"
   ]
  },
  {
   "cell_type": "code",
   "execution_count": 6,
   "metadata": {},
   "outputs": [
    {
     "data": {
      "text/html": [
       "<div>\n",
       "<style scoped>\n",
       "    .dataframe tbody tr th:only-of-type {\n",
       "        vertical-align: middle;\n",
       "    }\n",
       "\n",
       "    .dataframe tbody tr th {\n",
       "        vertical-align: top;\n",
       "    }\n",
       "\n",
       "    .dataframe thead th {\n",
       "        text-align: right;\n",
       "    }\n",
       "</style>\n",
       "<table border=\"1\" class=\"dataframe\">\n",
       "  <thead>\n",
       "    <tr style=\"text-align: right;\">\n",
       "      <th></th>\n",
       "      <th>A</th>\n",
       "      <th>B</th>\n",
       "      <th>C</th>\n",
       "      <th>D</th>\n",
       "      <th>0</th>\n",
       "    </tr>\n",
       "  </thead>\n",
       "  <tbody>\n",
       "    <tr>\n",
       "      <th>0</th>\n",
       "      <td>NaN</td>\n",
       "      <td>b1</td>\n",
       "      <td>NaN</td>\n",
       "      <td>d2</td>\n",
       "      <td>2</td>\n",
       "    </tr>\n",
       "    <tr>\n",
       "      <th>1</th>\n",
       "      <td>NaN</td>\n",
       "      <td>b1</td>\n",
       "      <td>c2</td>\n",
       "      <td>NaN</td>\n",
       "      <td>1</td>\n",
       "    </tr>\n",
       "    <tr>\n",
       "      <th>2</th>\n",
       "      <td>NaN</td>\n",
       "      <td>b2</td>\n",
       "      <td>c1</td>\n",
       "      <td>d1</td>\n",
       "      <td>2</td>\n",
       "    </tr>\n",
       "  </tbody>\n",
       "</table>\n",
       "</div>"
      ],
      "text/plain": [
       "    A   B    C    D  0\n",
       "0 NaN  b1  NaN   d2  2\n",
       "1 NaN  b1   c2  NaN  1\n",
       "2 NaN  b2   c1   d1  2"
      ]
     },
     "execution_count": 6,
     "metadata": {},
     "output_type": "execute_result"
    }
   ],
   "source": [
    "df.fillna('NaN').groupby(bn.scope, observed=True).size().reset_index().replace('NaN', np.nan)"
   ]
  },
  {
   "cell_type": "markdown",
   "metadata": {},
   "source": [
    "## EM Learning using empirical distribution"
   ]
  },
  {
   "cell_type": "code",
   "execution_count": 7,
   "metadata": {},
   "outputs": [
    {
     "data": {
      "text/plain": [
       "[    A   B   C   D    weight\n",
       " 0  a1  b1  c2  d1  0.111111\n",
       " 1  a1  b1  c2  d2  0.444444\n",
       " 2  a2  b1  c2  d1  0.088889\n",
       " 3  a2  b1  c2  d2  0.355556,\n",
       "     A   B   C   D    weight\n",
       " 0  a1  b1  c1  d2  0.326087\n",
       " 1  a1  b1  c2  d2  0.326087\n",
       " 2  a2  b1  c1  d2  0.086957\n",
       " 3  a2  b1  c2  d2  0.260870,\n",
       "     A   B   C   D    weight\n",
       " 0  a1  b2  c1  d1  0.121951\n",
       " 1  a2  b2  c1  d1  0.878049,\n",
       "     A   B   C   D    weight\n",
       " 0  a1  b2  c1  d1  0.121951\n",
       " 1  a2  b2  c1  d1  0.878049,\n",
       "     A   B   C   D    weight\n",
       " 0  a1  b1  c1  d2  0.326087\n",
       " 1  a1  b1  c2  d2  0.326087\n",
       " 2  a2  b1  c1  d2  0.086957\n",
       " 3  a2  b1  c2  d2  0.260870]"
      ]
     },
     "execution_count": 7,
     "metadata": {},
     "output_type": "execute_result"
    }
   ],
   "source": [
    "# Complete each row with missing data\n",
    "expanded = list(map(lambda x: bn.complete_case(x[1], include_weights=True), df.iterrows()))\n",
    "expanded"
   ]
  },
  {
   "cell_type": "code",
   "execution_count": 8,
   "metadata": {},
   "outputs": [
    {
     "data": {
      "text/plain": [
       "A   B   C   D \n",
       "a1  b1  c1  d2    0.130435\n",
       "        c2  d1    0.022222\n",
       "            d2    0.219324\n",
       "    b2  c1  d1    0.048780\n",
       "a2  b1  c1  d2    0.034783\n",
       "        c2  d1    0.017778\n",
       "            d2    0.175459\n",
       "    b2  c1  d1    0.351220\n",
       "Name: weight, dtype: float64"
      ]
     },
     "execution_count": 8,
     "metadata": {},
     "output_type": "execute_result"
    }
   ],
   "source": [
    "# Sum the results of the cases\n",
    "summed = pd.concat(expanded).groupby(bn.scope).sum()\n",
    "\n",
    "# Normalize and select the column (--> pd.Series)\n",
    "summed = (summed / summed.sum())['weight']\n",
    "\n",
    "# Show output\n",
    "summed"
   ]
  },
  {
   "cell_type": "code",
   "execution_count": 9,
   "metadata": {},
   "outputs": [
    {
     "data": {
      "text/plain": [
       "factor(A,B,C,D)\n",
       "A   B   C   D \n",
       "a1  b1  c1  d1    0.000\n",
       "            d2    0.130\n",
       "        c2  d1    0.022\n",
       "            d2    0.219\n",
       "    b2  c1  d1    0.049\n",
       "            d2    0.000\n",
       "        c2  d1    0.000\n",
       "            d2    0.000\n",
       "a2  b1  c1  d1    0.000\n",
       "            d2    0.035\n",
       "        c2  d1    0.018\n",
       "            d2    0.175\n",
       "    b2  c1  d1    0.351\n",
       "            d2    0.000\n",
       "        c2  d1    0.000\n",
       "            d2    0.000\n",
       "dtype: float64"
      ]
     },
     "execution_count": 9,
     "metadata": {},
     "output_type": "execute_result"
    }
   ],
   "source": [
    "## Add the result to a Factor of all zeroes, to ensure all possible combinations of \n",
    "# variables are included in the JPT.\n",
    "try:\n",
    "    Pr_D = Factor.from_series(summed)\n",
    "except:\n",
    "    print('Oh .. previous version, eh?')\n",
    "    zeroes = Factor(0, variable_states=bn.states)\n",
    "    Pr_D = Factor((zeroes._data + summed).fillna(0))\n",
    "    \n",
    "Pr_D"
   ]
  },
  {
   "cell_type": "markdown",
   "metadata": {},
   "source": [
    "Using the emperical distribution `Pr_D`, we can compute the updated CPTs as illustrated below."
   ]
  },
  {
   "cell_type": "code",
   "execution_count": 10,
   "metadata": {},
   "outputs": [
    {
     "data": {
      "text/plain": [
       "factor(A)\n",
       "A \n",
       "a1    0.421\n",
       "a2    0.579\n",
       "dtype: float64"
      ]
     },
     "execution_count": 10,
     "metadata": {},
     "output_type": "execute_result"
    }
   ],
   "source": [
    "# Compute P(A)\n",
    "Pr_D.project('A')"
   ]
  },
  {
   "cell_type": "code",
   "execution_count": 11,
   "metadata": {},
   "outputs": [
    {
     "data": {
      "text/plain": [
       "factor(A,B)\n",
       "A   B \n",
       "a1  b1    0.884\n",
       "    b2    0.116\n",
       "a2  b1    0.394\n",
       "    b2    0.606\n",
       "dtype: float64"
      ]
     },
     "execution_count": 11,
     "metadata": {},
     "output_type": "execute_result"
    }
   ],
   "source": [
    "# Compute P(B|A)\n",
    "Pr_D.project(['B','A']) / Pr_D.project(['A'])"
   ]
  },
  {
   "cell_type": "code",
   "execution_count": 12,
   "metadata": {},
   "outputs": [
    {
     "data": {
      "text/plain": [
       "factor(A,C)\n",
       "A   C \n",
       "a1  c1    0.426\n",
       "    c2    0.574\n",
       "a2  c1    0.666\n",
       "    c2    0.334\n",
       "dtype: float64"
      ]
     },
     "execution_count": 12,
     "metadata": {},
     "output_type": "execute_result"
    }
   ],
   "source": [
    "# Compute P(C|A)\n",
    "Pr_D.project(['C','A']) / Pr_D.project(['A'])"
   ]
  },
  {
   "cell_type": "code",
   "execution_count": 13,
   "metadata": {},
   "outputs": [
    {
     "data": {
      "text/plain": [
       "factor(B,D)\n",
       "B   D \n",
       "b1  d1    0.067\n",
       "    d2    0.933\n",
       "b2  d1    1.000\n",
       "    d2    0.000\n",
       "dtype: float64"
      ]
     },
     "execution_count": 13,
     "metadata": {},
     "output_type": "execute_result"
    }
   ],
   "source": [
    "# Compute P(B|D)\n",
    "Pr_D.project(['B','D']) / Pr_D.project(['B'])"
   ]
  },
  {
   "cell_type": "markdown",
   "metadata": {},
   "source": [
    "## EM Learning the using junction tree algorithm"
   ]
  },
  {
   "cell_type": "code",
   "execution_count": 14,
   "metadata": {},
   "outputs": [],
   "source": [
    "bn = examples.get_example17_3_network()"
   ]
  },
  {
   "cell_type": "code",
   "execution_count": 15,
   "metadata": {},
   "outputs": [
    {
     "data": {
      "text/plain": [
       "[P(A)\n",
       " A \n",
       " a1    0.2\n",
       " a2    0.8\n",
       " dtype: float64,\n",
       " P(B|A)\n",
       " A   B \n",
       " a1  b1    0.75\n",
       "     b2    0.25\n",
       " a2  b1    0.10\n",
       "     b2    0.90\n",
       " dtype: float64,\n",
       " P(C|A)\n",
       " A   C \n",
       " a1  c1    0.50\n",
       "     c2    0.50\n",
       " a2  c1    0.25\n",
       "     c2    0.75\n",
       " dtype: float64,\n",
       " P(D|B)\n",
       " B   D \n",
       " b1  d1    0.2\n",
       "     d2    0.8\n",
       " b2  d1    0.7\n",
       "     d2    0.3\n",
       " dtype: float64]"
      ]
     },
     "execution_count": 15,
     "metadata": {},
     "output_type": "execute_result"
    }
   ],
   "source": [
    "# For reference, these are the CPTs before we do anything.\n",
    "CPTs = [n.cpt for n in bn.nodes.values()]\n",
    "CPTs"
   ]
  },
  {
   "cell_type": "code",
   "execution_count": 16,
   "metadata": {},
   "outputs": [
    {
     "data": {
      "text/html": [
       "\n",
       "            <div>\n",
       "                <div style=\"margin-top:6px\">\n",
       "                    <span><b>P(A)</b></span>\n",
       "                    <span style=\"font-style: italic;\"></span>\n",
       "                    <div>\n",
       "<style scoped>\n",
       "    .dataframe tbody tr th:only-of-type {\n",
       "        vertical-align: middle;\n",
       "    }\n",
       "\n",
       "    .dataframe tbody tr th {\n",
       "        vertical-align: top;\n",
       "    }\n",
       "\n",
       "    .dataframe thead tr th {\n",
       "        text-align: left;\n",
       "    }\n",
       "</style>\n",
       "<table border=\"1\" class=\"dataframe\">\n",
       "  <thead>\n",
       "    <tr>\n",
       "      <th>A</th>\n",
       "      <th>a1</th>\n",
       "      <th>a2</th>\n",
       "    </tr>\n",
       "  </thead>\n",
       "  <tbody>\n",
       "    <tr>\n",
       "      <th></th>\n",
       "      <td>0.2</td>\n",
       "      <td>0.8</td>\n",
       "    </tr>\n",
       "  </tbody>\n",
       "</table>\n",
       "</div>\n",
       "                </div>\n",
       "            </div>\n",
       "        "
      ],
      "text/plain": [
       "P(A)\n",
       "A \n",
       "a1    0.2\n",
       "a2    0.8\n",
       "dtype: float64"
      ]
     },
     "execution_count": 16,
     "metadata": {},
     "output_type": "execute_result"
    }
   ],
   "source": [
    "bn['A'].cpt"
   ]
  },
  {
   "cell_type": "code",
   "execution_count": 17,
   "metadata": {},
   "outputs": [
    {
     "data": {
      "application/vnd.jupyter.widget-view+json": {
       "model_id": "acb27f613c284d3e962577a6ecea0c49",
       "version_major": 2,
       "version_minor": 0
      },
      "text/plain": [
       "BayesianNetworkWidget(marginals_and_evidence={'marginals': {'A': {'a1': 0.2, 'a2': 0.8}, 'B': {'b1': 0.2299999…"
      ]
     },
     "metadata": {},
     "output_type": "display_data"
    }
   ],
   "source": [
    "widget = BayesianNetworkWidget(bn)\n",
    "widget"
   ]
  },
  {
   "cell_type": "code",
   "execution_count": 18,
   "metadata": {},
   "outputs": [
    {
     "data": {
      "text/plain": [
       "[P(A)\n",
       " A \n",
       " a1    0.2\n",
       " a2    0.8\n",
       " dtype: float64,\n",
       " P(B|A)\n",
       " A   B \n",
       " a1  b1    0.75\n",
       "     b2    0.25\n",
       " a2  b1    0.10\n",
       "     b2    0.90\n",
       " dtype: float64,\n",
       " P(C|A)\n",
       " A   C \n",
       " a1  c1    0.50\n",
       "     c2    0.50\n",
       " a2  c1    0.25\n",
       "     c2    0.75\n",
       " dtype: float64,\n",
       " P(D|B)\n",
       " B   D \n",
       " b1  d1    0.2\n",
       "     d2    0.8\n",
       " b2  d1    0.7\n",
       "     d2    0.3\n",
       " dtype: float64]"
      ]
     },
     "execution_count": 18,
     "metadata": {},
     "output_type": "execute_result"
    }
   ],
   "source": [
    "copy = bn.copy()\n",
    "[n.cpt for n in copy.nodes.values()]"
   ]
  },
  {
   "cell_type": "code",
   "execution_count": 19,
   "metadata": {},
   "outputs": [
    {
     "data": {
      "text/html": [
       "\n",
       "            <div>\n",
       "                <div style=\"margin-top:6px\">\n",
       "                    <span><b>P(A)</b></span>\n",
       "                    <span style=\"font-style: italic;\"></span>\n",
       "                    <div>\n",
       "<style scoped>\n",
       "    .dataframe tbody tr th:only-of-type {\n",
       "        vertical-align: middle;\n",
       "    }\n",
       "\n",
       "    .dataframe tbody tr th {\n",
       "        vertical-align: top;\n",
       "    }\n",
       "\n",
       "    .dataframe thead tr th {\n",
       "        text-align: left;\n",
       "    }\n",
       "</style>\n",
       "<table border=\"1\" class=\"dataframe\">\n",
       "  <thead>\n",
       "    <tr>\n",
       "      <th>A</th>\n",
       "      <th>a1</th>\n",
       "      <th>a2</th>\n",
       "    </tr>\n",
       "  </thead>\n",
       "  <tbody>\n",
       "    <tr>\n",
       "      <th></th>\n",
       "      <td>0.064935</td>\n",
       "      <td>0.935065</td>\n",
       "    </tr>\n",
       "  </tbody>\n",
       "</table>\n",
       "</div>\n",
       "                </div>\n",
       "            </div>\n",
       "        "
      ],
      "text/plain": [
       "P(A)\n",
       "A \n",
       "a1    0.065\n",
       "a2    0.935\n",
       "dtype: float64"
      ]
     },
     "execution_count": 19,
     "metadata": {},
     "output_type": "execute_result"
    }
   ],
   "source": [
    "bn.P('A|B=b2,D=d1')"
   ]
  },
  {
   "cell_type": "code",
   "execution_count": 20,
   "metadata": {},
   "outputs": [
    {
     "data": {
      "text/plain": [
       "[P(A)\n",
       " A \n",
       " a1    0.421\n",
       " a2    0.579\n",
       " dtype: float64,\n",
       " P(B|A)\n",
       " A   B \n",
       " a1  b1    0.884\n",
       "     b2    0.116\n",
       " a2  b1    0.394\n",
       "     b2    0.606\n",
       " dtype: float64,\n",
       " P(C|A)\n",
       " A   C \n",
       " a1  c1    0.426\n",
       "     c2    0.574\n",
       " a2  c1    0.666\n",
       "     c2    0.334\n",
       " dtype: float64,\n",
       " P(D|B)\n",
       " B   D \n",
       " b1  d1    0.067\n",
       "     d2    0.933\n",
       " b2  d1    1.000\n",
       "     d2    0.000\n",
       " dtype: float64]"
      ]
     },
     "execution_count": 20,
     "metadata": {},
     "output_type": "execute_result"
    }
   ],
   "source": [
    "copy.EM_learning(df, max_iterations=1)\n",
    "\n",
    "[n.cpt for n in copy.nodes.values()]"
   ]
  }
 ],
 "metadata": {
  "kernelspec": {
   "display_name": "thomas",
   "language": "python",
   "name": "thomas"
  },
  "language_info": {
   "codemirror_mode": {
    "name": "ipython",
    "version": 3
   },
   "file_extension": ".py",
   "mimetype": "text/x-python",
   "name": "python",
   "nbconvert_exporter": "python",
   "pygments_lexer": "ipython3",
   "version": "3.6.10"
  }
 },
 "nbformat": 4,
 "nbformat_minor": 4
}
