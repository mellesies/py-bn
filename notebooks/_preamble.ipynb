{
 "cells": [
  {
   "cell_type": "markdown",
   "metadata": {},
   "source": [
    "# 0. Preamble"
   ]
  },
  {
   "cell_type": "code",
   "execution_count": 27,
   "metadata": {},
   "outputs": [
    {
     "name": "stdout",
     "output_type": "stream",
     "text": [
      "The autoreload extension is already loaded. To reload it, use:\n",
      "  %reload_ext autoreload\n",
      "Python version: 3.8.10\n"
     ]
    }
   ],
   "source": [
    "import sys\n",
    "import os\n",
    "import datetime\n",
    "import logging\n",
    "import pandas as pd\n",
    "import numpy as np\n",
    "\n",
    "print(f'Python version: {\".\".join([str(x) for x in sys.version_info[0:3]])}')\n",
    "\n",
    "%load_ext autoreload\n",
    "%autoreload 2\n",
    "\n",
    "import thomas.core"
   ]
  },
  {
   "cell_type": "code",
   "execution_count": 25,
   "metadata": {},
   "outputs": [
    {
     "data": {
      "text/plain": [
       "'3.8.10'"
      ]
     },
     "execution_count": 25,
     "metadata": {},
     "output_type": "execute_result"
    }
   ],
   "source": []
  },
  {
   "cell_type": "code",
   "execution_count": 2,
   "metadata": {},
   "outputs": [],
   "source": [
    "logging_setup = False\n",
    "\n",
    "# Functions below based on \n",
    "# https://stackoverflow.com/questions/12544056/how-do-i-get-the-current-ipython-jupyter-notebook-name\n",
    "def get_kernel_id():\n",
    "    import ipykernel\n",
    "    \n",
    "    connection_file = os.path.basename(ipykernel.get_connection_file())\n",
    "    return connection_file.split('-', 1)[1].split('.')[0]\n",
    "\n",
    "def notebook_path():\n",
    "    \"\"\"Returns the absolute path of the Notebook or None if it cannot be determined\n",
    "    NOTE: works only when the security is token-based or there is also no password\n",
    "    \"\"\"\n",
    "    from notebook import notebookapp\n",
    "    import urllib\n",
    "    import json\n",
    "\n",
    "    kernel_id = get_kernel_id()\n",
    "    \n",
    "    for srv in notebookapp.list_running_servers():\n",
    "        try:\n",
    "            if srv['token']=='' and not srv['password']:  # No token and no password, ahem...\n",
    "                req = urllib.request.urlopen(srv['url']+'api/sessions')\n",
    "            else:\n",
    "                req = urllib.request.urlopen(srv['url']+'api/sessions?token='+srv['token'])\n",
    "            sessions = json.load(req)\n",
    "            for sess in sessions:\n",
    "                if sess['kernel']['id'] == kernel_id:\n",
    "                    return os.path.join(srv['notebook_dir'],sess['notebook']['path'])\n",
    "        except:\n",
    "            pass  # There may be stale entries in the runtime directory \n",
    "        \n",
    "    return None"
   ]
  },
  {
   "cell_type": "code",
   "execution_count": 3,
   "metadata": {},
   "outputs": [
    {
     "name": "stdout",
     "output_type": "stream",
     "text": [
      "\n",
      "available imports:\n",
      "  import os\n",
      "  import logging\n",
      "  import pandas as pd\n",
      "  import numpy as np\n",
      "\n"
     ]
    }
   ],
   "source": [
    "print()\n",
    "print('available imports:')\n",
    "print('  import os')\n",
    "print('  import logging')\n",
    "print('  import pandas as pd')\n",
    "print('  import numpy as np')\n",
    "print()"
   ]
  },
  {
   "cell_type": "code",
   "execution_count": 4,
   "metadata": {},
   "outputs": [
    {
     "name": "stdout",
     "output_type": "stream",
     "text": [
      "connect to this kernel with:\n",
      "  jupyter console --existing 4f5a2b67-4e5d-4b8b-8bc7-d116fd2e5ff1\n",
      "\n"
     ]
    }
   ],
   "source": [
    "__kernel_id = get_kernel_id()\n",
    "print(f'connect to this kernel with:\\n  jupyter console --existing {get_kernel_id()}')\n",
    "print()"
   ]
  },
  {
   "cell_type": "code",
   "execution_count": 5,
   "metadata": {},
   "outputs": [
    {
     "name": "stdout",
     "output_type": "stream",
     "text": [
      "Could not create logging directory \"../logs\"\n",
      "Logging to: \"../logs/notebook.log\"\n"
     ]
    }
   ],
   "source": [
    "if logging_setup == False:\n",
    "    log = logging.getLogger()\n",
    "\n",
    "    # handler = OutputWidgetHandler()\n",
    "    try:\n",
    "        pathname, filename = os.path.split(notebook_path())\n",
    "    except Exception:\n",
    "        pathname = ''\n",
    "        filename = 'notebook'\n",
    "        \n",
    "    pathname = os.path.normpath(os.path.join(pathname, '../logs'))\n",
    "    \n",
    "    try:\n",
    "        os.makedirs(pathname)\n",
    "    except:\n",
    "        print(f'Could not create logging directory \"{pathname}\"')\n",
    "    \n",
    "    logfile = os.path.splitext(filename)[0] + '.log'\n",
    "    logfile = os.path.join(pathname, logfile)\n",
    "    print(f'Logging to: \"{logfile}\"')\n",
    "    \n",
    "    # Delete the logfile to start fresh.\n",
    "    # Use tail -F to follow the file regardless :-)\n",
    "    try:\n",
    "       os.remove(logfile)\n",
    "    except:\n",
    "       pass\n",
    "\n",
    "    with open(logfile, 'w') as fp:\n",
    "        fp.write('\\n')\n",
    "    \n",
    "    handler = logging.FileHandler(logfile)\n",
    "    handler.setFormatter(\n",
    "        logging.Formatter(\n",
    "            '%(asctime)s  - %(name)-14s - [%(levelname)s] %(message)s',\n",
    "            \"%Y-%m-%d %H:%M:%S\")\n",
    "    )\n",
    "    log.addHandler(handler)\n",
    "    log.setLevel(logging.DEBUG)\n",
    "    \n",
    "    logging.getLogger('parso.cache').setLevel(logging.WARNING)\n",
    "    logging.getLogger('parso.python.diff').setLevel(logging.WARNING)\n",
    "    logging.getLogger('urllib3.connectionpool').setLevel(logging.WARNING)\n",
    "    logging.getLogger('matplotlib').setLevel(logging.WARNING)\n",
    "    logging.getLogger('matplotlib.font_manager').setLevel(logging.WARNING)\n",
    "    \n",
    "    logging_setup = True\n",
    "    \n",
    "    # Clean up\n",
    "    del fp, logfile\n",
    "\n",
    "\n",
    "try:\n",
    "    notebook_name = os.path.split(notebook_path())[-1]\n",
    "except Exception:\n",
    "    notebook_name = '-- unknown --'\n",
    "    \n",
    "log.info('-' * 60)\n",
    "log.info(f'Starting notebook \"{notebook_name}\"')\n",
    "log.info(f'thomas.core version: {thomas.core.__version__}')\n",
    "log.info(f'Pandas version: {pd.__version__}')\n",
    "log.info(f'Current working directory: \"{os.getcwd()}\"')\n",
    "log.info('-' * 60)"
   ]
  },
  {
   "cell_type": "code",
   "execution_count": 13,
   "metadata": {},
   "outputs": [
    {
     "name": "stdout",
     "output_type": "stream",
     "text": [
      "Python version: 3.8.10 (default, May  7 2021, 21:09:28) \n",
      "[Clang 12.0.5 (clang-1205.0.22.9)]\n",
      "Current date/time: 11-06-2021, 21:17\n",
      "Current working directory: \"/Users/melle/software-development/thomas-master/notebooks\"\n"
     ]
    }
   ],
   "source": [
    "print(f'Current date/time: {datetime.datetime.now().strftime(\"%d-%m-%Y, %H:%M\")}')\n",
    "print(f'Current working directory: \"{os.getcwd()}\"')"
   ]
  },
  {
   "cell_type": "code",
   "execution_count": 7,
   "metadata": {},
   "outputs": [],
   "source": [
    "# handler.clear_logs()\n",
    "# for x in range(200):\n",
    "#     log.debug(f'{x:02}: yeaj')"
   ]
  }
 ],
 "metadata": {
  "kernelspec": {
   "display_name": "thomas-jupyter3",
   "language": "python",
   "name": "thomas-jupyter3"
  },
  "language_info": {
   "codemirror_mode": {
    "name": "ipython",
    "version": 3
   },
   "file_extension": ".py",
   "mimetype": "text/x-python",
   "name": "python",
   "nbconvert_exporter": "python",
   "pygments_lexer": "ipython3",
   "version": "3.8.10"
  }
 },
 "nbformat": 4,
 "nbformat_minor": 4
}
