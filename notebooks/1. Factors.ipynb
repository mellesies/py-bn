{
 "cells": [
  {
   "cell_type": "markdown",
   "metadata": {},
   "source": [
    "# 1. Factors"
   ]
  },
  {
   "cell_type": "code",
   "execution_count": 1,
   "metadata": {},
   "outputs": [
    {
     "name": "stdout",
     "output_type": "stream",
     "text": [
      "Python version: 3.8.10\n",
      "The autoreload extension is already loaded. To reload it, use:\n",
      "  %reload_ext autoreload\n",
      "\n",
      "available imports:\n",
      "  import os\n",
      "  import logging\n",
      "  import pandas as pd\n",
      "  import numpy as np\n",
      "\n",
      "connect to this kernel with:\n",
      "  jupyter console --existing 6d0c7476-e11c-4540-9b05-6e5fd8409ba7\n",
      "\n",
      "Could not create logging directory \"../logs\"\n",
      "Logging to: \"../logs/notebook.log\"\n",
      "Current date/time: 15-06-2021, 17:28\n",
      "Current working directory: \"/Users/melle/software-development/thomas-master/notebooks\"\n"
     ]
    }
   ],
   "source": [
    "%run '_preamble.ipynb'"
   ]
  },
  {
   "cell_type": "code",
   "execution_count": 2,
   "metadata": {},
   "outputs": [
    {
     "name": "stdout",
     "output_type": "stream",
     "text": [
      "Using thomas.core version '0.1.3'\n"
     ]
    }
   ],
   "source": [
    "import itertools\n",
    "\n",
    "import thomas.core\n",
    "from thomas.core.factors import Factor\n",
    "from thomas.core import examples\n",
    "\n",
    "print(f\"Using thomas.core version '{thomas.core.__version__}'\")\n",
    "\n",
    "from IPython.display import display, HTML"
   ]
  },
  {
   "cell_type": "code",
   "execution_count": 3,
   "metadata": {},
   "outputs": [],
   "source": [
    "# Create the Factors for the Sprinkler network. \n",
    "# Note that the order in which the states are defined is important. \n",
    "# As such, this will only work in Python ≥ 3.6!          ^^^^^^^^^\n",
    "\n",
    "# P(A)\n",
    "fA = Factor(\n",
    "    [0.6, 0.4], \n",
    "    {'A': ['a1', 'a0']}\n",
    ")\n",
    "\n",
    "# P(B|A)\n",
    "fB_A = Factor(\n",
    "    [0.2, 0.8, 0.75, 0.25], \n",
    "    {'A': ['a1', 'a0'],'B': ['b1', 'b0']}\n",
    ")\n",
    "\n",
    "# P(C|A)\n",
    "fC_A = Factor(\n",
    "    [0.8, 0.2, 0.1, 0.9], \n",
    "    {'A': ['a1', 'a0'],'C': ['c1', 'c0']}\n",
    ")\n",
    "\n",
    "# Define a factor that holds the *conditional* distribution P(D|BC)\n",
    "fD_BC = Factor(\n",
    "    [0.95, 0.05, 0.9, 0.1,0.8, 0.2, 0.0, 1.0], \n",
    "    {'B': ['b1', 'b0'],'C': ['c1', 'c0'],'D': ['d1', 'd0']}\n",
    ")\n",
    "\n",
    "# P(E|C)\n",
    "fE_C = Factor(\n",
    "    [0.7, 0.3, 0.0, 1.0], \n",
    "    {'C': ['c1', 'c0'],'E': ['e1', 'e0']}\n",
    ")"
   ]
  },
  {
   "cell_type": "code",
   "execution_count": 4,
   "metadata": {},
   "outputs": [
    {
     "data": {
      "text/plain": [
       "factor(A)\n",
       "A \n",
       "a1    0.6\n",
       "a0    0.4\n",
       "dtype: float64"
      ]
     },
     "execution_count": 4,
     "metadata": {},
     "output_type": "execute_result"
    }
   ],
   "source": [
    "# fA is essentially a prior distribution.\n",
    "fA"
   ]
  },
  {
   "cell_type": "code",
   "execution_count": 5,
   "metadata": {},
   "outputs": [
    {
     "data": {
      "text/plain": [
       "factor(A,B)\n",
       "A   B \n",
       "a1  b1    0.20\n",
       "    b0    0.80\n",
       "a0  b1    0.75\n",
       "    b0    0.25\n",
       "dtype: float64"
      ]
     },
     "execution_count": 5,
     "metadata": {},
     "output_type": "execute_result"
    }
   ],
   "source": [
    "# fB_A holds a conditional distribution: P(B|A)\n",
    "fB_A"
   ]
  },
  {
   "cell_type": "code",
   "execution_count": 6,
   "metadata": {},
   "outputs": [
    {
     "data": {
      "text/plain": [
       "factor(A,B)\n",
       "A   B \n",
       "a1  b1    0.12\n",
       "    b0    0.48\n",
       "a0  b1    0.30\n",
       "    b0    0.10\n",
       "dtype: float64"
      ]
     },
     "metadata": {},
     "output_type": "display_data"
    }
   ],
   "source": [
    "# Multiplying the factor with a *prior* with a *conditional* distribution, yields\n",
    "# a *joint* distribution.\n",
    "fAB = fA * fB_A\n",
    "display(fAB)"
   ]
  },
  {
   "cell_type": "code",
   "execution_count": 7,
   "metadata": {},
   "outputs": [
    {
     "data": {
      "text/plain": [
       "factor(B)\n",
       "B \n",
       "b1    0.42\n",
       "b0    0.58\n",
       "dtype: float64"
      ]
     },
     "execution_count": 7,
     "metadata": {},
     "output_type": "execute_result"
    }
   ],
   "source": [
    "# By summing out A, we'll get the prior over B\n",
    "fAB.sum_out('A')"
   ]
  },
  {
   "cell_type": "code",
   "execution_count": 8,
   "metadata": {},
   "outputs": [
    {
     "data": {
      "text/plain": [
       "factor(A,B,D,C)\n",
       "A   B   D   C \n",
       "a1  b1  d1  c1    0.1900\n",
       "            c0    0.1800\n",
       "        d0  c1    0.0100\n",
       "            c0    0.0200\n",
       "    b0  d1  c1    0.6400\n",
       "            c0    0.0000\n",
       "        d0  c1    0.1600\n",
       "            c0    0.8000\n",
       "a0  b1  d1  c1    0.7125\n",
       "            c0    0.6750\n",
       "        d0  c1    0.0375\n",
       "            c0    0.0750\n",
       "    b0  d1  c1    0.2000\n",
       "            c0    0.0000\n",
       "        d0  c1    0.0500\n",
       "            c0    0.2500\n",
       "dtype: float64"
      ]
     },
     "execution_count": 8,
     "metadata": {},
     "output_type": "execute_result"
    }
   ],
   "source": [
    "# Reordering the variables is done through reorder_scope()\n",
    "(fB_A * fD_BC).reorder_scope(['A', 'B', 'D', 'C'])"
   ]
  },
  {
   "cell_type": "code",
   "execution_count": 9,
   "metadata": {},
   "outputs": [
    {
     "data": {
      "text/plain": [
       "{'type': 'Factor',\n",
       " 'scope': ['A'],\n",
       " 'states': {'A': ['a1', 'a0']},\n",
       " 'data': [0.6, 0.4]}"
      ]
     },
     "execution_count": 9,
     "metadata": {},
     "output_type": "execute_result"
    }
   ],
   "source": [
    "# Factors can be easily serialized\n",
    "fA.as_dict()"
   ]
  },
  {
   "cell_type": "code",
   "execution_count": 10,
   "metadata": {},
   "outputs": [
    {
     "data": {
      "text/plain": [
       "0.4"
      ]
     },
     "execution_count": 10,
     "metadata": {},
     "output_type": "execute_result"
    }
   ],
   "source": [
    "# Access individual entries as you would a dictionary\n",
    "fA['a0']"
   ]
  },
  {
   "cell_type": "code",
   "execution_count": 11,
   "metadata": {},
   "outputs": [
    {
     "data": {
      "text/plain": [
       "0.30000000000000004"
      ]
     },
     "execution_count": 11,
     "metadata": {},
     "output_type": "execute_result"
    }
   ],
   "source": [
    "# Note that the order of the states should correspond to the order of the variables.\n",
    "fAB['a0', 'b1']"
   ]
  },
  {
   "cell_type": "code",
   "execution_count": 12,
   "metadata": {},
   "outputs": [
    {
     "data": {
      "text/plain": [
       "factor(B)\n",
       "B \n",
       "b1    0.42\n",
       "b0    0.58\n",
       "dtype: float64"
      ]
     },
     "execution_count": 12,
     "metadata": {},
     "output_type": "execute_result"
    }
   ],
   "source": [
    "# Summing out removes a variable from the Factor.\n",
    "fAB.sum_out('A')"
   ]
  },
  {
   "cell_type": "code",
   "execution_count": 13,
   "metadata": {},
   "outputs": [
    {
     "data": {
      "text/plain": [
       "factor(A)\n",
       "A \n",
       "a1    0.6\n",
       "a0    0.4\n",
       "dtype: float64"
      ]
     },
     "execution_count": 13,
     "metadata": {},
     "output_type": "execute_result"
    }
   ],
   "source": [
    "# Projecting onto a variable is equivalent to summing out the complement\n",
    "fA.project('A')"
   ]
  },
  {
   "cell_type": "code",
   "execution_count": 14,
   "metadata": {},
   "outputs": [
    {
     "data": {
      "text/plain": [
       "factor(A,B)\n",
       "A   B \n",
       "a1  b1    0.80\n",
       "    b0    1.40\n",
       "a0  b1    1.15\n",
       "    b0    0.65\n",
       "dtype: float64"
      ]
     },
     "execution_count": 14,
     "metadata": {},
     "output_type": "execute_result"
    }
   ],
   "source": [
    "# Factors can also be added, altough this may be of limited use\n",
    "fA + fB_A"
   ]
  },
  {
   "cell_type": "code",
   "execution_count": 15,
   "metadata": {},
   "outputs": [
    {
     "data": {
      "text/plain": [
       "A   B \n",
       "a1  b1    0.12\n",
       "    b0    0.48\n",
       "a0  b1    0.30\n",
       "    b0    0.10\n",
       "dtype: float64"
      ]
     },
     "execution_count": 15,
     "metadata": {},
     "output_type": "execute_result"
    }
   ],
   "source": [
    "# If you want, you can also convert to a pandas.Series\n",
    "sfAB = fAB.as_series()\n",
    "sfAB"
   ]
  },
  {
   "cell_type": "code",
   "execution_count": 16,
   "metadata": {},
   "outputs": [
    {
     "data": {
      "text/plain": [
       "factor(A,B)\n",
       "A   B \n",
       "a0  b0    0.10\n",
       "    b1    0.30\n",
       "a1  b0    0.48\n",
       "    b1    0.12\n",
       "dtype: float64"
      ]
     },
     "execution_count": 16,
     "metadata": {},
     "output_type": "execute_result"
    }
   ],
   "source": [
    "# Or create a Factor from a Series. Note that this could change the order of the states.\n",
    "# This is a result of the fact that (as far as I can find) pandas.MultiIndex doesn't \n",
    "# provide a way to keep the order.\n",
    "Factor.from_series(sfAB)"
   ]
  },
  {
   "cell_type": "code",
   "execution_count": 17,
   "metadata": {},
   "outputs": [
    {
     "data": {
      "text/plain": [
       "factor(A,B)\n",
       "A   B \n",
       "a1  b1    0.12\n",
       "    b0    0.48\n",
       "a0  b1    0.00\n",
       "    b0    0.00\n",
       "dtype: float64"
      ]
     },
     "execution_count": 17,
     "metadata": {},
     "output_type": "execute_result"
    }
   ],
   "source": [
    "# Factors can be set/updated using the `set` method. This is useful for factors\n",
    "# that indicate evidence. This sets all entries with 'a0' to 0.\n",
    "fAB.set(0, A='a0')"
   ]
  },
  {
   "cell_type": "code",
   "execution_count": 18,
   "metadata": {},
   "outputs": [
    {
     "data": {
      "text/plain": [
       "factor(A,B)\n",
       "A   B \n",
       "a1  b1    1.00\n",
       "    b0    0.48\n",
       "a0  b1    1.00\n",
       "    b0    0.10\n",
       "dtype: float64"
      ]
     },
     "execution_count": 18,
     "metadata": {},
     "output_type": "execute_result"
    }
   ],
   "source": [
    "# This sets everything *but* 'b0' to 1.\n",
    "fAB.set_complement(1, B='b0')"
   ]
  },
  {
   "cell_type": "code",
   "execution_count": 19,
   "metadata": {},
   "outputs": [
    {
     "data": {
      "text/plain": [
       "factor(A,B)\n",
       "A   B \n",
       "a1  b1    1.0\n",
       "    b0    1.0\n",
       "a0  b1    0.0\n",
       "    b0    0.0\n",
       "dtype: float64"
      ]
     },
     "execution_count": 19,
     "metadata": {},
     "output_type": "execute_result"
    }
   ],
   "source": [
    "# Result can be chained\n",
    "fAB.set(0, A='a0').set_complement(1, A='a0')"
   ]
  },
  {
   "cell_type": "code",
   "execution_count": 20,
   "metadata": {},
   "outputs": [],
   "source": [
    "# If you'd rather to this in place, either pass 'inplace=True' to `set()` or\n",
    "# use alternative assignment. \n",
    "fAB['a0'] = 1"
   ]
  },
  {
   "cell_type": "code",
   "execution_count": 21,
   "metadata": {},
   "outputs": [
    {
     "name": "stdout",
     "output_type": "stream",
     "text": [
      "factor(A,B)\n",
      "A   B \n",
      "a1  b1    2.00\n",
      "    b0    0.48\n",
      "a0  b1    2.00\n",
      "    b0    1.00\n",
      "dtype: float64\n",
      "\n",
      "That will not work: <class 'KeyError'> 'b1'\n",
      "\n"
     ]
    }
   ],
   "source": [
    "# Note that in this case you're responsible for selecting the right variable:\n",
    "fAB[:, 'b1'] = 2\n",
    "print(fAB)\n",
    "print()\n",
    "\n",
    "try:\n",
    "    fAB['b1'] = 2\n",
    "except Exception as e:\n",
    "    print('That will not work:', type(e), e)\n",
    "    print()"
   ]
  }
 ],
 "metadata": {
  "kernelspec": {
   "display_name": "thomas",
   "language": "python",
   "name": "thomas"
  },
  "language_info": {
   "codemirror_mode": {
    "name": "ipython",
    "version": 3
   },
   "file_extension": ".py",
   "mimetype": "text/x-python",
   "name": "python",
   "nbconvert_exporter": "python",
   "pygments_lexer": "ipython3",
   "version": "3.8.10"
  }
 },
 "nbformat": 4,
 "nbformat_minor": 4
}
