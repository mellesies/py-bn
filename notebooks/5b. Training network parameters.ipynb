{
 "cells": [
  {
   "cell_type": "markdown",
   "metadata": {},
   "source": [
    "# 5b. Parameter estimation with missing data & data imputation\n",
    "This notebook shows how parameter estimation is implemented in Thomas."
   ]
  },
  {
   "cell_type": "code",
   "execution_count": 1,
   "metadata": {},
   "outputs": [
    {
     "name": "stdout",
     "output_type": "stream",
     "text": [
      "The autoreload extension is already loaded. To reload it, use:\n",
      "  %reload_ext autoreload\n",
      "\n",
      "available imports:\n",
      "  import os\n",
      "  import logging\n",
      "  import pandas as pd\n",
      "  import numpy as np\n",
      "\n",
      "connect to this kernel with:\n",
      "  jupyter console --existing 286bdf7b-d823-46d7-b3e2-728944488d17\n",
      "\n",
      "Logging to: \"/Users/melle/software-development/thomas-master/logs/5b. Training network parameters.log\"\n",
      "Current date/time: 08-07-2020, 00:13\n",
      "Current working directory: \"/Users/melle/software-development/thomas-master/notebooks\"\n"
     ]
    }
   ],
   "source": [
    "%run '_preamble.ipynb'"
   ]
  },
  {
   "cell_type": "code",
   "execution_count": 2,
   "metadata": {},
   "outputs": [],
   "source": [
    "from thomas.core import examples\n",
    "from thomas.core import BayesianNetwork, Factor, CPT, JPT\n",
    "from thomas.core.bayesian_network import DiscreteNetworkNode\n",
    "\n",
    "try:\n",
    "    from thomas.jupyter import BayesianNetworkWidget\n",
    "except:\n",
    "    pass\n",
    "\n",
    "from IPython.display import display, HTML"
   ]
  },
  {
   "cell_type": "markdown",
   "metadata": {},
   "source": [
    "## Example 17.2"
   ]
  },
  {
   "cell_type": "markdown",
   "metadata": {},
   "source": [
    "### Create the structure"
   ]
  },
  {
   "cell_type": "code",
   "execution_count": 3,
   "metadata": {},
   "outputs": [],
   "source": [
    "# Create the Nodes\n",
    "H = DiscreteNetworkNode('H', states=['T', 'F'], position=[165, 29])\n",
    "S = DiscreteNetworkNode('S', states=['T', 'F'], position=[66,141])\n",
    "E = DiscreteNetworkNode('E', states=['T', 'F'], position=[288,154])\n",
    "\n",
    "nodes = [H, S, E]\n",
    "\n",
    "# Create the edges\n",
    "edges = [\n",
    "    ('H', 'S'),\n",
    "    ('H', 'E'),\n",
    "]\n",
    "\n",
    "bn = BayesianNetwork('Example 17.2', nodes, edges)\n",
    "\n",
    "for node in bn.nodes.values():\n",
    "    node.reset()\n",
    "    \n",
    "    "
   ]
  },
  {
   "cell_type": "code",
   "execution_count": 3,
   "metadata": {},
   "outputs": [
    {
     "data": {
      "application/vnd.jupyter.widget-view+json": {
       "model_id": "d0203b5f0df746769949d55cc0b7cc80",
       "version_major": 2,
       "version_minor": 0
      },
      "text/plain": [
       "BayesianNetworkWidget(height=250, marginals_and_evidence={'marginals': {'H': {'T': 0.5, 'F': 0.5}, 'S': {'T': …"
      ]
     },
     "metadata": {},
     "output_type": "display_data"
    }
   ],
   "source": [
    "try:\n",
    "    view = BayesianNetworkWidget(bn, height=250)\n",
    "    display(view)\n",
    "    \n",
    "except:\n",
    "    display(bn.get_marginals())"
   ]
  },
  {
   "cell_type": "markdown",
   "metadata": {},
   "source": [
    "### Load data to learn parameters with"
   ]
  },
  {
   "cell_type": "code",
   "execution_count": 4,
   "metadata": {},
   "outputs": [
    {
     "name": "stdout",
     "output_type": "stream",
     "text": [
      "df.shape: 16 rows x 3 cols\n"
     ]
    },
    {
     "data": {
      "text/html": [
       "<div>\n",
       "<style scoped>\n",
       "    .dataframe tbody tr th:only-of-type {\n",
       "        vertical-align: middle;\n",
       "    }\n",
       "\n",
       "    .dataframe tbody tr th {\n",
       "        vertical-align: top;\n",
       "    }\n",
       "\n",
       "    .dataframe thead th {\n",
       "        text-align: right;\n",
       "    }\n",
       "</style>\n",
       "<table border=\"1\" class=\"dataframe\">\n",
       "  <thead>\n",
       "    <tr style=\"text-align: right;\">\n",
       "      <th></th>\n",
       "      <th>H</th>\n",
       "      <th>S</th>\n",
       "      <th>E</th>\n",
       "    </tr>\n",
       "  </thead>\n",
       "  <tbody>\n",
       "    <tr>\n",
       "      <th>0</th>\n",
       "      <td>T</td>\n",
       "      <td>F</td>\n",
       "      <td>T</td>\n",
       "    </tr>\n",
       "    <tr>\n",
       "      <th>1</th>\n",
       "      <td>T</td>\n",
       "      <td>F</td>\n",
       "      <td>T</td>\n",
       "    </tr>\n",
       "    <tr>\n",
       "      <th>2</th>\n",
       "      <td>F</td>\n",
       "      <td>T</td>\n",
       "      <td>F</td>\n",
       "    </tr>\n",
       "  </tbody>\n",
       "</table>\n",
       "</div>"
      ],
      "text/plain": [
       "   H  S  E\n",
       "0  T  F  T\n",
       "1  T  F  T\n",
       "2  F  T  F"
      ]
     },
     "execution_count": 4,
     "metadata": {},
     "output_type": "execute_result"
    }
   ],
   "source": [
    "filename = thomas.core.get_pkg_filename('dataset_17_2.csv')\n",
    "df = pd.read_csv(filename, sep=';')\n",
    "df = df[['H', 'S', 'E']]\n",
    "\n",
    "print(f'df.shape: {df.shape[0]} rows x {df.shape[1]} cols')\n",
    "df.head(3)"
   ]
  },
  {
   "cell_type": "code",
   "execution_count": 5,
   "metadata": {},
   "outputs": [
    {
     "name": "stdout",
     "output_type": "stream",
     "text": [
      "This dataset has 0 NAs\n"
     ]
    }
   ],
   "source": [
    "# Currently the dataset does not contain any NAs\n",
    "print(f'This dataset has {df.isna().sum().sum()} NAs')"
   ]
  },
  {
   "cell_type": "code",
   "execution_count": 6,
   "metadata": {},
   "outputs": [
    {
     "name": "stdout",
     "output_type": "stream",
     "text": [
      "And now we have 8 NAs\n"
     ]
    },
    {
     "data": {
      "text/html": [
       "<div>\n",
       "<style scoped>\n",
       "    .dataframe tbody tr th:only-of-type {\n",
       "        vertical-align: middle;\n",
       "    }\n",
       "\n",
       "    .dataframe tbody tr th {\n",
       "        vertical-align: top;\n",
       "    }\n",
       "\n",
       "    .dataframe thead th {\n",
       "        text-align: right;\n",
       "    }\n",
       "</style>\n",
       "<table border=\"1\" class=\"dataframe\">\n",
       "  <thead>\n",
       "    <tr style=\"text-align: right;\">\n",
       "      <th></th>\n",
       "      <th>H</th>\n",
       "      <th>S</th>\n",
       "      <th>E</th>\n",
       "    </tr>\n",
       "  </thead>\n",
       "  <tbody>\n",
       "    <tr>\n",
       "      <th>0</th>\n",
       "      <td>NaN</td>\n",
       "      <td>F</td>\n",
       "      <td>T</td>\n",
       "    </tr>\n",
       "    <tr>\n",
       "      <th>1</th>\n",
       "      <td>T</td>\n",
       "      <td>F</td>\n",
       "      <td>NaN</td>\n",
       "    </tr>\n",
       "    <tr>\n",
       "      <th>2</th>\n",
       "      <td>F</td>\n",
       "      <td>NaN</td>\n",
       "      <td>F</td>\n",
       "    </tr>\n",
       "    <tr>\n",
       "      <th>3</th>\n",
       "      <td>F</td>\n",
       "      <td>NaN</td>\n",
       "      <td>T</td>\n",
       "    </tr>\n",
       "    <tr>\n",
       "      <th>4</th>\n",
       "      <td>T</td>\n",
       "      <td>F</td>\n",
       "      <td>F</td>\n",
       "    </tr>\n",
       "    <tr>\n",
       "      <th>5</th>\n",
       "      <td>T</td>\n",
       "      <td>F</td>\n",
       "      <td>T</td>\n",
       "    </tr>\n",
       "    <tr>\n",
       "      <th>6</th>\n",
       "      <td>F</td>\n",
       "      <td>F</td>\n",
       "      <td>F</td>\n",
       "    </tr>\n",
       "    <tr>\n",
       "      <th>7</th>\n",
       "      <td>T</td>\n",
       "      <td>F</td>\n",
       "      <td>T</td>\n",
       "    </tr>\n",
       "    <tr>\n",
       "      <th>8</th>\n",
       "      <td>T</td>\n",
       "      <td>F</td>\n",
       "      <td>T</td>\n",
       "    </tr>\n",
       "    <tr>\n",
       "      <th>9</th>\n",
       "      <td>F</td>\n",
       "      <td>F</td>\n",
       "      <td>T</td>\n",
       "    </tr>\n",
       "    <tr>\n",
       "      <th>10</th>\n",
       "      <td>T</td>\n",
       "      <td>NaN</td>\n",
       "      <td>NaN</td>\n",
       "    </tr>\n",
       "    <tr>\n",
       "      <th>11</th>\n",
       "      <td>T</td>\n",
       "      <td>T</td>\n",
       "      <td>T</td>\n",
       "    </tr>\n",
       "    <tr>\n",
       "      <th>12</th>\n",
       "      <td>T</td>\n",
       "      <td>F</td>\n",
       "      <td>T</td>\n",
       "    </tr>\n",
       "    <tr>\n",
       "      <th>13</th>\n",
       "      <td>T</td>\n",
       "      <td>T</td>\n",
       "      <td>T</td>\n",
       "    </tr>\n",
       "    <tr>\n",
       "      <th>14</th>\n",
       "      <td>T</td>\n",
       "      <td>F</td>\n",
       "      <td>NaN</td>\n",
       "    </tr>\n",
       "    <tr>\n",
       "      <th>15</th>\n",
       "      <td>T</td>\n",
       "      <td>F</td>\n",
       "      <td>NaN</td>\n",
       "    </tr>\n",
       "  </tbody>\n",
       "</table>\n",
       "</div>"
      ],
      "text/plain": [
       "      H    S    E\n",
       "0   NaN    F    T\n",
       "1     T    F  NaN\n",
       "2     F  NaN    F\n",
       "3     F  NaN    T\n",
       "4     T    F    F\n",
       "5     T    F    T\n",
       "6     F    F    F\n",
       "7     T    F    T\n",
       "8     T    F    T\n",
       "9     F    F    T\n",
       "10    T  NaN  NaN\n",
       "11    T    T    T\n",
       "12    T    F    T\n",
       "13    T    T    T\n",
       "14    T    F  NaN\n",
       "15    T    F  NaN"
      ]
     },
     "execution_count": 6,
     "metadata": {},
     "output_type": "execute_result"
    }
   ],
   "source": [
    "# Let's introduce a few NAs\n",
    "df_na = df.copy()\n",
    "\n",
    "df_na.loc[0,  'H'] = np.nan\n",
    "df_na.loc[1,  'E'] = np.nan\n",
    "df_na.loc[2,  'S'] = np.nan\n",
    "df_na.loc[3,  'S'] = np.nan\n",
    "df_na.loc[10, 'E'] = np.nan\n",
    "df_na.loc[10, 'S'] = np.nan\n",
    "df_na.loc[14, 'E'] = np.nan\n",
    "df_na.loc[15, 'E'] = np.nan\n",
    "\n",
    "print(f'And now we have {df_na.isna().sum().sum()} NAs')\n",
    "\n",
    "df_na"
   ]
  },
  {
   "cell_type": "code",
   "execution_count": 7,
   "metadata": {},
   "outputs": [
    {
     "data": {
      "application/vnd.jupyter.widget-view+json": {
       "model_id": "404bc27e1b5443199344aa696d8ecbd1",
       "version_major": 2,
       "version_minor": 0
      },
      "text/plain": [
       "BayesianNetworkWidget(marginals_and_evidence={'marginals': {'H': {'F': 0.2222222222222222, 'T': 0.777777777777…"
      ]
     },
     "metadata": {},
     "output_type": "display_data"
    }
   ],
   "source": [
    "# Initialize the probabilities of the BN using ML estimation (which drops any NAs in the dataset).\n",
    "bn.ML_estimation(df_na)\n",
    "try:\n",
    "    view = BayesianNetworkWidget(bn, height=250)\n",
    "    display(view)\n",
    "    \n",
    "except:\n",
    "    display(bn.get_marginals())"
   ]
  },
  {
   "cell_type": "markdown",
   "metadata": {},
   "source": [
    "### Data imputation"
   ]
  },
  {
   "cell_type": "code",
   "execution_count": 8,
   "metadata": {},
   "outputs": [
    {
     "data": {
      "text/plain": [
       "H      T\n",
       "S    NaN\n",
       "E    NaN\n",
       "Name: 10, dtype: object"
      ]
     },
     "execution_count": 8,
     "metadata": {},
     "output_type": "execute_result"
    }
   ],
   "source": [
    "# We can use the estimated probabilities to impute the missing values.\n",
    "case = df_na.iloc[10]\n",
    "case"
   ]
  },
  {
   "cell_type": "code",
   "execution_count": 9,
   "metadata": {},
   "outputs": [
    {
     "name": "stdout",
     "output_type": "stream",
     "text": [
      "missing:  ['S', 'E']\n",
      "evidence: {'H': 'T'}\n",
      "  --> compute P(S,E|H=T)\n"
     ]
    }
   ],
   "source": [
    "# Put the variables that have a missing value in 'missing' and those that have\n",
    "# values in 'evidence'\n",
    "missing = list(case[case.isna()].index)\n",
    "evidence = {e: case[e] for e in case.index if e not in missing}\n",
    "\n",
    "print('missing: ', missing)\n",
    "print('evidence:', evidence)\n",
    "print(f'  --> compute P({BayesianNetwork.create_query_string(qd=missing, ev=evidence)})')"
   ]
  },
  {
   "cell_type": "code",
   "execution_count": 10,
   "metadata": {},
   "outputs": [
    {
     "data": {
      "text/html": [
       "<div>\n",
       "<style scoped>\n",
       "    .dataframe tbody tr th:only-of-type {\n",
       "        vertical-align: middle;\n",
       "    }\n",
       "\n",
       "    .dataframe tbody tr th {\n",
       "        vertical-align: top;\n",
       "    }\n",
       "\n",
       "    .dataframe thead th {\n",
       "        text-align: right;\n",
       "    }\n",
       "</style>\n",
       "<table border=\"1\" class=\"dataframe\">\n",
       "  <thead>\n",
       "    <tr style=\"text-align: right;\">\n",
       "      <th></th>\n",
       "      <th>H</th>\n",
       "      <th>S</th>\n",
       "      <th>E</th>\n",
       "      <th>weight</th>\n",
       "    </tr>\n",
       "  </thead>\n",
       "  <tbody>\n",
       "    <tr>\n",
       "      <th>0</th>\n",
       "      <td>T</td>\n",
       "      <td>F</td>\n",
       "      <td>F</td>\n",
       "      <td>0.102041</td>\n",
       "    </tr>\n",
       "    <tr>\n",
       "      <th>1</th>\n",
       "      <td>T</td>\n",
       "      <td>F</td>\n",
       "      <td>T</td>\n",
       "      <td>0.612245</td>\n",
       "    </tr>\n",
       "    <tr>\n",
       "      <th>2</th>\n",
       "      <td>T</td>\n",
       "      <td>T</td>\n",
       "      <td>F</td>\n",
       "      <td>0.040816</td>\n",
       "    </tr>\n",
       "    <tr>\n",
       "      <th>3</th>\n",
       "      <td>T</td>\n",
       "      <td>T</td>\n",
       "      <td>T</td>\n",
       "      <td>0.244898</td>\n",
       "    </tr>\n",
       "  </tbody>\n",
       "</table>\n",
       "</div>"
      ],
      "text/plain": [
       "   H  S  E    weight\n",
       "0  T  F  F  0.102041\n",
       "1  T  F  T  0.612245\n",
       "2  T  T  F  0.040816\n",
       "3  T  T  T  0.244898"
      ]
     },
     "execution_count": 10,
     "metadata": {},
     "output_type": "execute_result"
    }
   ],
   "source": [
    "# _complete_case can compute the probability of all combinations of missing values.\n",
    "# In this case the probability of each combination (i.e. 'weight' is returned as well)\n",
    "bn.complete_case(case)"
   ]
  },
  {
   "cell_type": "code",
   "execution_count": 11,
   "metadata": {},
   "outputs": [
    {
     "data": {
      "text/plain": [
       "H    T\n",
       "S    F\n",
       "E    T\n",
       "Name: 1, dtype: object"
      ]
     },
     "execution_count": 11,
     "metadata": {},
     "output_type": "execute_result"
    }
   ],
   "source": [
    "# or it can return the most likely combination (which corresponds to row '1' above)\n",
    "bn.complete_case(case, include_weights=False)"
   ]
  }
 ],
 "metadata": {
  "kernelspec": {
   "display_name": "thomas",
   "language": "python",
   "name": "thomas"
  },
  "language_info": {
   "codemirror_mode": {
    "name": "ipython",
    "version": 3
   },
   "file_extension": ".py",
   "mimetype": "text/x-python",
   "name": "python",
   "nbconvert_exporter": "python",
   "pygments_lexer": "ipython3",
   "version": "3.6.10"
  }
 },
 "nbformat": 4,
 "nbformat_minor": 4
}
